{
 "cells": [
  {
   "cell_type": "code",
   "execution_count": 1,
   "id": "a89373c8",
   "metadata": {},
   "outputs": [],
   "source": [
    "import numpy as np\n",
    "import pandas as pd\n",
    "import os\n",
    "from sklearn.metrics import classification_report\n",
    "import seaborn as sn; sn.set(font_scale = 1.4)\n",
    "from sklearn.utils import shuffle\n",
    "import matplotlib.pyplot as plt\n",
    "import cv2\n",
    "import tensorflow as tf\n",
    "from tqdm import tqdm \n",
    "import numpy as np \n",
    "from keras.preprocessing import image"
   ]
  },
  {
   "cell_type": "code",
   "execution_count": 2,
   "id": "9eb31c0c",
   "metadata": {},
   "outputs": [
    {
     "name": "stdout",
     "output_type": "stream",
     "text": [
      "{'daisy': 0, 'dandelion': 1, 'rose': 2, 'sunflower': 3, 'tulip': 4}\n"
     ]
    }
   ],
   "source": [
    "class_names = ['daisy', 'dandelion', 'rose', 'sunflower', 'tulip']\n",
    "class_name_labels = {class_name : i for i, class_name in enumerate(class_names)}\n",
    "\n",
    "number_of_classes = len(class_names)\n",
    "print(class_name_labels)\n",
    "IMAGE_SIZE = (150, 150)\n"
   ]
  },
  {
   "cell_type": "code",
   "execution_count": 3,
   "id": "c4b77d0f",
   "metadata": {},
   "outputs": [],
   "source": [
    "def load_data():\n",
    "    DIRECTORY = r\"D:\\College\\Projects\\Flower_Recognition\"\n",
    "    CATEGORY = ['training_set', 'test_set']\n",
    "    \n",
    "    output = []\n",
    "    \n",
    "    for category in CATEGORY:\n",
    "        path = os.path.join(DIRECTORY, category)\n",
    "        images = []\n",
    "        labels = []\n",
    "        \n",
    "        print('loading {}'.format(category))\n",
    "        \n",
    "        for folder in os.listdir(path):\n",
    "            label = class_name_labels[folder]\n",
    "            \n",
    "            for file in os.listdir(os.path.join(path, folder)):\n",
    "                img_path = os.path.join(os.path.join(path, folder), file)\n",
    "                \n",
    "                image = cv2.imread(img_path)\n",
    "                image = cv2.cvtColor(image, cv2.COLOR_BGR2RGB)\n",
    "                image = cv2.resize(image, IMAGE_SIZE)\n",
    "                \n",
    "                images.append(image)\n",
    "                labels.append(label)\n",
    "                \n",
    "        images = np.array(images, dtype = 'float32')\n",
    "        labels = np.array(labels, dtype = 'int32')\n",
    "            \n",
    "        output.append((images, labels))\n",
    "        \n",
    "    return output\n",
    "\n",
    "                "
   ]
  },
  {
   "cell_type": "code",
   "execution_count": 4,
   "id": "e3194c3c",
   "metadata": {},
   "outputs": [
    {
     "name": "stdout",
     "output_type": "stream",
     "text": [
      "loading training_set\n",
      "loading test_set\n"
     ]
    }
   ],
   "source": [
    "(training_images, training_labels), (test_images, test_labels) = load_data()"
   ]
  },
  {
   "cell_type": "code",
   "execution_count": 5,
   "id": "a9a044be",
   "metadata": {},
   "outputs": [],
   "source": [
    "training_images, training_labels = shuffle(training_images, training_labels, random_state = 25)"
   ]
  },
  {
   "cell_type": "markdown",
   "id": "cce931eb",
   "metadata": {},
   "source": [
    "#creating CNN"
   ]
  },
  {
   "cell_type": "code",
   "execution_count": 6,
   "id": "003ad3c1",
   "metadata": {},
   "outputs": [],
   "source": [
    "model = tf.keras.models.load_model('final_model.h5')\n",
    "# model = tf.keras.Sequential([\n",
    "#     tf.keras.layers.Conv2D(32,(3,3), activation='relu', input_shape = (150, 150, 3)),\n",
    "#     tf.keras.layers.MaxPooling2D(2,2),\n",
    "#     tf.keras.layers.Conv2D(32,(3,3), activation = 'relu'),\n",
    "#     tf.keras.layers.MaxPooling2D(2,2),\n",
    "#     tf.keras.layers.Flatten(),\n",
    "#     tf.keras.layers.Dense(128, activation = tf.nn.relu),\n",
    "#     tf.keras.layers.Dense(5, activation = tf.nn.softmax)\n",
    "# ])"
   ]
  },
  {
   "cell_type": "markdown",
   "id": "c1b34588",
   "metadata": {},
   "source": [
    "#compiling the model"
   ]
  },
  {
   "cell_type": "code",
   "execution_count": 7,
   "id": "219b9be6",
   "metadata": {},
   "outputs": [],
   "source": [
    "# model.compile(optimizer = 'adam', loss = 'sparse_categorical_crossentropy', metrics=['accuracy'])"
   ]
  },
  {
   "cell_type": "code",
   "execution_count": 8,
   "id": "1cefd760",
   "metadata": {},
   "outputs": [],
   "source": [
    "# history = model.fit(training_images, training_labels, batch_size = 128, epochs = 10, validation_split= 0.2)"
   ]
  },
  {
   "cell_type": "markdown",
   "id": "7a7e2698",
   "metadata": {},
   "source": [
    "## Testing the Model"
   ]
  },
  {
   "cell_type": "code",
   "execution_count": 9,
   "id": "280b139f",
   "metadata": {},
   "outputs": [
    {
     "name": "stdout",
     "output_type": "stream",
     "text": [
      "1/1 [==============================] - 0s 469ms/step\n",
      "The image is sunflower with 99.9971866607666 percent confidence\n"
     ]
    }
   ],
   "source": [
    "img = tf.keras.utils.load_img('dataset1/Single_prediction/sunflower2.jpg', target_size=(180,180))\n",
    "img_array = tf.keras.utils.img_to_array(img)\n",
    "img_array = tf.expand_dims(img_array, 0)\n",
    "\n",
    "predictions = model.predict(img_array)\n",
    "score = tf.nn.softmax(predictions[0])\n",
    "\n",
    "print(f\"The image is {class_names[np.argmax(score)]} with {100*np.max(score)} percent confidence\")"
   ]
  },
  {
   "cell_type": "code",
   "execution_count": null,
   "id": "0e516bea",
   "metadata": {},
   "outputs": [],
   "source": []
  },
  {
   "cell_type": "code",
   "execution_count": null,
   "id": "8503cb29",
   "metadata": {},
   "outputs": [],
   "source": []
  }
 ],
 "metadata": {
  "kernelspec": {
   "display_name": "Python 3 (ipykernel)",
   "language": "python",
   "name": "python3"
  },
  "language_info": {
   "codemirror_mode": {
    "name": "ipython",
    "version": 3
   },
   "file_extension": ".py",
   "mimetype": "text/x-python",
   "name": "python",
   "nbconvert_exporter": "python",
   "pygments_lexer": "ipython3",
   "version": "3.10.9"
  }
 },
 "nbformat": 4,
 "nbformat_minor": 5
}
